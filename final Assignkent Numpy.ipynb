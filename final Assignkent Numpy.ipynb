{
 "cells": [
  {
   "cell_type": "code",
   "execution_count": 1,
   "id": "f478aea2",
   "metadata": {},
   "outputs": [],
   "source": [
    "import numpy as np"
   ]
  },
  {
   "cell_type": "code",
   "execution_count": 6,
   "id": "f96269ea",
   "metadata": {},
   "outputs": [],
   "source": [
    "x=np.genfromtxt(r\"C:\\Users\\akhil\\Downloads\\tipsf.csv\",delimiter=\",\",skip_header=1)"
   ]
  },
  {
   "cell_type": "code",
   "execution_count": 7,
   "id": "8b38376c",
   "metadata": {},
   "outputs": [
    {
     "data": {
      "text/plain": [
       "array([[  0.  ,  16.99,   1.01, ...,   1.  ,   0.  ,   2.  ],\n",
       "       [  1.  ,  10.34,   1.66, ...,   1.  ,   0.  ,   3.  ],\n",
       "       [  2.  ,  21.01,   3.5 , ...,   1.  ,   0.  ,   3.  ],\n",
       "       ...,\n",
       "       [241.  ,  22.67,   2.  , ...,   0.  ,   0.  ,   2.  ],\n",
       "       [242.  ,  17.82,   1.75, ...,   0.  ,   0.  ,   2.  ],\n",
       "       [243.  ,  18.78,   3.  , ...,   2.  ,   0.  ,   2.  ]])"
      ]
     },
     "execution_count": 7,
     "metadata": {},
     "output_type": "execute_result"
    }
   ],
   "source": [
    "x"
   ]
  },
  {
   "cell_type": "code",
   "execution_count": 8,
   "id": "566f0f78",
   "metadata": {},
   "outputs": [
    {
     "data": {
      "text/plain": [
       "4827.77"
      ]
     },
     "execution_count": 8,
     "metadata": {},
     "output_type": "execute_result"
    }
   ],
   "source": [
    "#1) what is the total bill value\n",
    "\n",
    "np.sum(x[:,1])"
   ]
  },
  {
   "cell_type": "code",
   "execution_count": 9,
   "id": "bc6cd995",
   "metadata": {},
   "outputs": [
    {
     "data": {
      "text/plain": [
       "731.5799999999999"
      ]
     },
     "execution_count": 9,
     "metadata": {},
     "output_type": "execute_result"
    }
   ],
   "source": [
    "#2)what is the total tip value\n",
    "\n",
    "np.sum(x[:,2])"
   ]
  },
  {
   "cell_type": "code",
   "execution_count": 10,
   "id": "60668a86",
   "metadata": {},
   "outputs": [
    {
     "name": "stdout",
     "output_type": "stream",
     "text": [
      "sunday =  87\n",
      "saturday =  76\n",
      "thursday =  62\n",
      "friday =  19\n"
     ]
    }
   ],
   "source": [
    "#3)count of how many times sun,sat,thu,fri are there.\n",
    "z=np.unique(x[:,5],return_counts=True)\n",
    "a,b=z\n",
    "j=0\n",
    "for i in a:\n",
    "    if(i==0):\n",
    "        print(\"sunday = \",b[j])\n",
    "        j+=1\n",
    "    elif(i==1):\n",
    "        print(\"saturday = \",b[j])\n",
    "        j+=1\n",
    "    elif(i==2):\n",
    "        print(\"thursday = \",b[j])\n",
    "        j+=1\n",
    "    elif(i==3):\n",
    "        print(\"friday = \",b[j])\n",
    "        j+=1   "
   ]
  },
  {
   "cell_type": "code",
   "execution_count": 11,
   "id": "4ec20ce3",
   "metadata": {},
   "outputs": [
    {
     "name": "stdout",
     "output_type": "stream",
     "text": [
      "93 smokers are there\n"
     ]
    }
   ],
   "source": [
    "#4)how many smokers are there\n",
    "q=np.sum(x[:,4])\n",
    "print(int(q),\"smokers are there\")"
   ]
  },
  {
   "cell_type": "code",
   "execution_count": 12,
   "id": "34ee72a7",
   "metadata": {},
   "outputs": [
    {
     "name": "stdout",
     "output_type": "stream",
     "text": [
      "2.8334482758620685 average tip given by female\n",
      "3.0896178343949043 average tip given by male\n"
     ]
    }
   ],
   "source": [
    "#5)what is the average tip given by female and male\n",
    "a=np.sum(x[:,2].take(np.where(x[:,3]==0)))\n",
    "b=np.sum(x[:,2].take(np.where(x[:,3]==1)))\n",
    "z=np.unique(x[:,3],return_counts=True)\n",
    "q,w=z\n",
    "print(a/w[0],\"average tip given by female\")\n",
    "print(b/w[1],\"average tip given by male\")"
   ]
  },
  {
   "cell_type": "code",
   "execution_count": 13,
   "id": "34e7bffd",
   "metadata": {},
   "outputs": [
    {
     "name": "stdout",
     "output_type": "stream",
     "text": [
      "total amount spent by female:  1571.0\n",
      "total amount spent by male:  3257.0\n"
     ]
    }
   ],
   "source": [
    "#6)how much amount have been spent by female and male.\n",
    "a=np.sum(x[:,1].take(np.where(x[:,3]==0)))\n",
    "b=np.sum(x[:,1].take(np.where(x[:,3]==1)))\n",
    "print(\"total amount spent by female: \",np.round(a))\n",
    "print(\"total amount spent by male: \",np.round(b))\n"
   ]
  },
  {
   "cell_type": "code",
   "execution_count": 14,
   "id": "ccfb0d6e",
   "metadata": {},
   "outputs": [
    {
     "name": "stdout",
     "output_type": "stream",
     "text": [
      "maximum tip is  10.0\n",
      "minimum tip is  1.0\n"
     ]
    }
   ],
   "source": [
    "#7)what is the min and max tip given \n",
    "max_tip=np.max(x[:,2])\n",
    "min_tip=np.min(x[:,2])\n",
    "print(\"maximum tip is \",max_tip)\n",
    "print(\"minimum tip is \",min_tip)"
   ]
  },
  {
   "cell_type": "code",
   "execution_count": 15,
   "id": "3f882537",
   "metadata": {},
   "outputs": [
    {
     "name": "stdout",
     "output_type": "stream",
     "text": [
      "total female going for lunch 35\n",
      "total female going for dinner 52\n",
      "total male going for lunch 33\n",
      "total female going for dinner 124\n"
     ]
    }
   ],
   "source": [
    "#8)how many male and female are going for dinner and lunch\n",
    "z=np.unique(x[:,3].take(np.where((x[:,6]==1))),return_counts=True)      #lunch        0 means female 1 means male\n",
    "a,b=z\n",
    "y=np.unique(x[:,3].take(np.where((x[:,6]==0))),return_counts=True)       #dinner\n",
    "c,d=y\n",
    "for i in a:\n",
    "    if(i==0):\n",
    "        print(\"total female going for lunch\",b[0])\n",
    "        print(\"total female going for dinner\",d[0])\n",
    "    else:\n",
    "         print(\"total male going for lunch\",b[1])\n",
    "         print(\"total female going for dinner\",d[1])"
   ]
  },
  {
   "cell_type": "code",
   "execution_count": 16,
   "id": "d9fcb92a",
   "metadata": {},
   "outputs": [
    {
     "name": "stdout",
     "output_type": "stream",
     "text": [
      "average of size =  3.0\n"
     ]
    }
   ],
   "source": [
    "#9>find out the average size\n",
    "z=np.unique(x[:,7],return_counts=True)\n",
    "a,b=z\n",
    "avg=np.sum(x[:,7])/np.sum(b)\n",
    "print(\"average of size = \",np.round(avg))"
   ]
  },
  {
   "cell_type": "code",
   "execution_count": 17,
   "id": "b73e1b9d",
   "metadata": {},
   "outputs": [
    {
     "name": "stdout",
     "output_type": "stream",
     "text": [
      "female smokers are :  33\n",
      "male smokers are :  60\n"
     ]
    }
   ],
   "source": [
    "#10>find how many female smokers and male smokers are there\n",
    "z=np.unique(x[:,3].take(np.where((x[:,4]==1))),return_counts=True)\n",
    "a,b=z\n",
    "for i in a:\n",
    "    if(i==0):\n",
    "        print(\"female smokers are : \",b[0])\n",
    "    else:\n",
    "        print(\"male smokers are : \",b[1])"
   ]
  },
  {
   "cell_type": "code",
   "execution_count": null,
   "id": "0e2147ec",
   "metadata": {},
   "outputs": [],
   "source": []
  },
  {
   "cell_type": "code",
   "execution_count": 23,
   "id": "9240fdd4",
   "metadata": {},
   "outputs": [],
   "source": [
    "n=np.genfromtxt(r\"C:\\Users\\akhil\\Downloads\\train_extended.csv\",delimiter=\",\",skip_header=1)"
   ]
  },
  {
   "cell_type": "code",
   "execution_count": 47,
   "id": "3278df8e",
   "metadata": {},
   "outputs": [
    {
     "data": {
      "text/plain": [
       "array([[ 1.575     ,  1.225     ,  0.375     , ...,  6.3219385 ,\n",
       "         9.63883   , 10.        ],\n",
       "       [ 1.2375    ,  1.        ,  0.375     , ...,  3.798833  ,\n",
       "         7.654365  , 19.        ],\n",
       "       [ 1.45      ,  1.1625    ,  0.4125    , ...,  7.01650125,\n",
       "         7.257472  , 11.        ],\n",
       "       ...,\n",
       "       [ 1.125     ,  0.9125    ,  0.2875    , ...,  1.984465  ,\n",
       "         3.118445  ,  7.        ],\n",
       "       [ 1.625     ,  1.275     ,  0.4125    , ...,  7.86698625,\n",
       "        10.489315  , 11.        ],\n",
       "       [ 1.5875    ,  1.25      ,  0.3875    , ...,  7.38504475,\n",
       "         8.788345  , 11.        ]])"
      ]
     },
     "execution_count": 47,
     "metadata": {},
     "output_type": "execute_result"
    }
   ],
   "source": [
    "n"
   ]
  },
  {
   "cell_type": "code",
   "execution_count": 49,
   "id": "ca2634a6",
   "metadata": {},
   "outputs": [
    {
     "ename": "IndexError",
     "evalue": "too many indices for array: array is 1-dimensional, but 2 were indexed",
     "output_type": "error",
     "traceback": [
      "\u001b[1;31m---------------------------------------------------------------------------\u001b[0m",
      "\u001b[1;31mIndexError\u001b[0m                                Traceback (most recent call last)",
      "\u001b[1;32m~\\AppData\\Local\\Temp\\ipykernel_15364\\3426370293.py\u001b[0m in \u001b[0;36m<module>\u001b[1;34m\u001b[0m\n\u001b[0;32m      1\u001b[0m \u001b[1;31m#1>what is the maximum and minnimum length?\u001b[0m\u001b[1;33m\u001b[0m\u001b[1;33m\u001b[0m\u001b[0m\n\u001b[0;32m      2\u001b[0m \u001b[1;33m\u001b[0m\u001b[0m\n\u001b[1;32m----> 3\u001b[1;33m \u001b[0mx\u001b[0m\u001b[1;33m=\u001b[0m\u001b[0mnp\u001b[0m\u001b[1;33m.\u001b[0m\u001b[0mmax\u001b[0m\u001b[1;33m(\u001b[0m\u001b[0ma\u001b[0m\u001b[1;33m[\u001b[0m\u001b[1;33m:\u001b[0m\u001b[1;33m,\u001b[0m\u001b[1;36m0\u001b[0m\u001b[1;33m]\u001b[0m\u001b[1;33m)\u001b[0m\u001b[1;33m\u001b[0m\u001b[1;33m\u001b[0m\u001b[0m\n\u001b[0m\u001b[0;32m      4\u001b[0m \u001b[0mprint\u001b[0m\u001b[1;33m(\u001b[0m\u001b[1;34m\"print maximum length is \"\u001b[0m\u001b[1;33m,\u001b[0m\u001b[0mx\u001b[0m\u001b[1;33m)\u001b[0m\u001b[1;33m\u001b[0m\u001b[1;33m\u001b[0m\u001b[0m\n\u001b[0;32m      5\u001b[0m \u001b[0my\u001b[0m\u001b[1;33m=\u001b[0m\u001b[0mnp\u001b[0m\u001b[1;33m.\u001b[0m\u001b[0mmin\u001b[0m\u001b[1;33m(\u001b[0m\u001b[0ma\u001b[0m\u001b[1;33m[\u001b[0m\u001b[1;33m:\u001b[0m\u001b[1;33m,\u001b[0m\u001b[1;36m0\u001b[0m\u001b[1;33m]\u001b[0m\u001b[1;33m)\u001b[0m\u001b[1;33m\u001b[0m\u001b[1;33m\u001b[0m\u001b[0m\n",
      "\u001b[1;31mIndexError\u001b[0m: too many indices for array: array is 1-dimensional, but 2 were indexed"
     ]
    }
   ],
   "source": [
    "#1>what is the maximum and minnimum length?\n",
    "\n",
    "x=np.max(a[:,0])\n",
    "print(\"print maximum length is \",x)\n",
    "y=np.min(a[:,0])\n",
    "print(\"print minimum length is \",y)"
   ]
  },
  {
   "cell_type": "code",
   "execution_count": null,
   "id": "b468d3df",
   "metadata": {},
   "outputs": [],
   "source": []
  }
 ],
 "metadata": {
  "kernelspec": {
   "display_name": "Python 3 (ipykernel)",
   "language": "python",
   "name": "python3"
  },
  "language_info": {
   "codemirror_mode": {
    "name": "ipython",
    "version": 3
   },
   "file_extension": ".py",
   "mimetype": "text/x-python",
   "name": "python",
   "nbconvert_exporter": "python",
   "pygments_lexer": "ipython3",
   "version": "3.9.13"
  }
 },
 "nbformat": 4,
 "nbformat_minor": 5
}
